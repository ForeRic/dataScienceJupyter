{
 "cells": [
  {
   "cell_type": "markdown",
   "id": "e48da409",
   "metadata": {},
   "source": [
    "## JSON (JavaScriot Object Notation)"
   ]
  },
  {
   "cell_type": "code",
   "execution_count": 1,
   "id": "9ff7f070",
   "metadata": {},
   "outputs": [],
   "source": [
    "import json"
   ]
  },
  {
   "cell_type": "markdown",
   "id": "b6ced783",
   "metadata": {},
   "source": [
    "{\"name\": \"Bob\",\n",
    " \"languages\" : [\"English\", \"French\"]\n",
    "        }"
   ]
  },
  {
   "cell_type": "markdown",
   "id": "26a5ecc3",
   "metadata": {},
   "source": [
    "### 1. Python JSON to Dict"
   ]
  },
  {
   "cell_type": "code",
   "execution_count": 4,
   "id": "9f65f283",
   "metadata": {},
   "outputs": [],
   "source": [
    "person='{\"name\": \"Bob\", \"languages\" : [\"English\", \"French\"]}'"
   ]
  },
  {
   "cell_type": "code",
   "execution_count": 8,
   "id": "fad9c31e",
   "metadata": {},
   "outputs": [],
   "source": [
    "# JSON 파일 불러올 때 \n",
    "person_dict = json.loads(person)"
   ]
  },
  {
   "cell_type": "code",
   "execution_count": 9,
   "id": "1146d05a",
   "metadata": {},
   "outputs": [
    {
     "name": "stdout",
     "output_type": "stream",
     "text": [
      "{'name': 'Bob', 'languages': ['English', 'French']}\n"
     ]
    }
   ],
   "source": [
    "print(person_dict)"
   ]
  },
  {
   "cell_type": "code",
   "execution_count": 10,
   "id": "4f41732d",
   "metadata": {},
   "outputs": [
    {
     "name": "stdout",
     "output_type": "stream",
     "text": [
      "Bob\n"
     ]
    }
   ],
   "source": [
    "print(person_dict['name'])"
   ]
  },
  {
   "cell_type": "code",
   "execution_count": 12,
   "id": "2fafd503",
   "metadata": {},
   "outputs": [
    {
     "name": "stdout",
     "output_type": "stream",
     "text": [
      "['English', 'French']\n"
     ]
    }
   ],
   "source": [
    "print(person_dict['languages'])"
   ]
  },
  {
   "cell_type": "markdown",
   "id": "d1dd04a8",
   "metadata": {},
   "source": [
    "### 2. Python read JSON file"
   ]
  },
  {
   "cell_type": "code",
   "execution_count": 15,
   "id": "a7ac1a6d",
   "metadata": {},
   "outputs": [
    {
     "ename": "FileNotFoundError",
     "evalue": "[Errno 2] No such file or directory: 'person.json'",
     "output_type": "error",
     "traceback": [
      "\u001b[1;31m---------------------------------------------------------------------------\u001b[0m",
      "\u001b[1;31mFileNotFoundError\u001b[0m                         Traceback (most recent call last)",
      "\u001b[1;32m<ipython-input-15-cc8565fb6af4>\u001b[0m in \u001b[0;36m<module>\u001b[1;34m\u001b[0m\n\u001b[0;32m      7\u001b[0m \u001b[1;33m\u001b[0m\u001b[0m\n\u001b[0;32m      8\u001b[0m \u001b[1;31m# 파일 열기 + json.load()\u001b[0m\u001b[1;33m\u001b[0m\u001b[1;33m\u001b[0m\u001b[1;33m\u001b[0m\u001b[0m\n\u001b[1;32m----> 9\u001b[1;33m \u001b[1;32mwith\u001b[0m \u001b[0mopen\u001b[0m\u001b[1;33m(\u001b[0m\u001b[1;34m'person.json'\u001b[0m\u001b[1;33m)\u001b[0m \u001b[1;32mas\u001b[0m \u001b[0mf\u001b[0m \u001b[1;33m:\u001b[0m\u001b[1;33m\u001b[0m\u001b[1;33m\u001b[0m\u001b[0m\n\u001b[0m\u001b[0;32m     10\u001b[0m     \u001b[0mdata\u001b[0m \u001b[1;33m=\u001b[0m \u001b[0mjson\u001b[0m\u001b[1;33m.\u001b[0m\u001b[0mload\u001b[0m\u001b[1;33m(\u001b[0m\u001b[0mf\u001b[0m\u001b[1;33m)\u001b[0m\u001b[1;33m\u001b[0m\u001b[1;33m\u001b[0m\u001b[0m\n\u001b[0;32m     11\u001b[0m \u001b[1;33m\u001b[0m\u001b[0m\n",
      "\u001b[1;31mFileNotFoundError\u001b[0m: [Errno 2] No such file or directory: 'person.json'"
     ]
    }
   ],
   "source": [
    "import json\n",
    "\n",
    "# f = open('person.jason')\n",
    "# f.close()\n",
    "\n",
    "# open 하고 with 구문 빠져나갈 때 파일을 알아서 close 해 줌. \n",
    "\n",
    "# 파일 열기 + json.load()\n",
    "with open('person.json') as f :\n",
    "    data = json.load(f)\n",
    "    \n",
    "print(data)"
   ]
  },
  {
   "cell_type": "markdown",
   "id": "2ed85056",
   "metadata": {},
   "source": [
    "### 3. Convert Dict -> JSON"
   ]
  },
  {
   "cell_type": "code",
   "execution_count": 17,
   "id": "b5b26c5e",
   "metadata": {},
   "outputs": [
    {
     "name": "stdout",
     "output_type": "stream",
     "text": [
      "{\"name\": \"Bob\", \"age\": 12, \"childern\": null}\n"
     ]
    }
   ],
   "source": [
    "import json\n",
    "\n",
    "person_dict = {\n",
    "    'name': 'Bob',\n",
    "    'age' : 12,\n",
    "    'childern': None\n",
    "}\n",
    "\n",
    "# python 데이터 타입을 json 형태로 변경할 때 json.dumps()\n",
    "# ------------------------\n",
    "# python type: JSON type\n",
    "# -----------------------\n",
    "#      dict     object\n",
    "#      tuple,list      array\n",
    "#     int, float    number\n",
    "#     str          string \n",
    "\n",
    "# dumps = 파일 읽어오기만 할때 \n",
    "person_json = json.dumps(person_dict)\n",
    "\n",
    "print(person_json)"
   ]
  },
  {
   "cell_type": "code",
   "execution_count": 18,
   "id": "c44582db",
   "metadata": {},
   "outputs": [],
   "source": [
    "### 4. Writing JSON to a file "
   ]
  },
  {
   "cell_type": "code",
   "execution_count": 21,
   "id": "484e1ac5",
   "metadata": {},
   "outputs": [],
   "source": [
    "person={\"name\": \"Bob\", \n",
    "        \"languages\" : [\"English\", \"French\"],\n",
    "       \"marraied\" : True,\n",
    "        \"age\" : 32,\n",
    "       }\n",
    "\n",
    "# Write only\n",
    "with open('person1.json', 'w') as f:\n",
    "    # 쓰고자하는 데이터, 파일명\n",
    "    json.dump(person_dict, f)"
   ]
  },
  {
   "cell_type": "code",
   "execution_count": null,
   "id": "bfc6f0dc",
   "metadata": {},
   "outputs": [],
   "source": []
  },
  {
   "cell_type": "code",
   "execution_count": null,
   "id": "b4d826b5",
   "metadata": {},
   "outputs": [],
   "source": []
  },
  {
   "cell_type": "code",
   "execution_count": null,
   "id": "ec246379",
   "metadata": {},
   "outputs": [],
   "source": []
  },
  {
   "cell_type": "code",
   "execution_count": null,
   "id": "0e982fa4",
   "metadata": {},
   "outputs": [],
   "source": []
  },
  {
   "cell_type": "code",
   "execution_count": null,
   "id": "cdef1b35",
   "metadata": {},
   "outputs": [],
   "source": []
  },
  {
   "cell_type": "code",
   "execution_count": null,
   "id": "49a29398",
   "metadata": {},
   "outputs": [],
   "source": []
  }
 ],
 "metadata": {
  "kernelspec": {
   "display_name": "Python 3",
   "language": "python",
   "name": "python3"
  },
  "language_info": {
   "codemirror_mode": {
    "name": "ipython",
    "version": 3
   },
   "file_extension": ".py",
   "mimetype": "text/x-python",
   "name": "python",
   "nbconvert_exporter": "python",
   "pygments_lexer": "ipython3",
   "version": "3.6.13"
  }
 },
 "nbformat": 4,
 "nbformat_minor": 5
}
