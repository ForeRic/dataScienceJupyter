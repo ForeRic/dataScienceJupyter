{
 "cells": [
  {
   "cell_type": "markdown",
   "id": "d1cd2f35",
   "metadata": {},
   "source": [
    "## Numpy Version"
   ]
  },
  {
   "cell_type": "code",
   "execution_count": 3,
   "id": "b1786a1d",
   "metadata": {},
   "outputs": [],
   "source": [
    "import numpy as np\n",
    "import pandas as pd"
   ]
  },
  {
   "cell_type": "code",
   "execution_count": 4,
   "id": "4495a674",
   "metadata": {},
   "outputs": [
    {
     "data": {
      "text/plain": [
       "'1.1.5'"
      ]
     },
     "execution_count": 4,
     "metadata": {},
     "output_type": "execute_result"
    }
   ],
   "source": [
    "np.__version__\n",
    "# 밑에 버전까지 같이 쓰면 항상 밑에 쓴 버전만 나옴. 둘다 따로 써줘야 버전을 확인가능. "
   ]
  },
  {
   "cell_type": "code",
   "execution_count": 5,
   "id": "701726b9",
   "metadata": {},
   "outputs": [
    {
     "data": {
      "text/plain": [
       "'1.1.5'"
      ]
     },
     "execution_count": 5,
     "metadata": {},
     "output_type": "execute_result"
    }
   ],
   "source": [
    "pd.__version__"
   ]
  },
  {
   "cell_type": "code",
   "execution_count": 1,
   "id": "cf98b007",
   "metadata": {},
   "outputs": [
    {
     "name": "stdout",
     "output_type": "stream",
     "text": [
      "Package             Version\n",
      "------------------- -------------------\n",
      "argon2-cffi         20.1.0\n",
      "async-generator     1.10\n",
      "attrs               20.3.0\n",
      "backcall            0.2.0\n",
      "bleach              3.3.0\n",
      "certifi             2020.12.5\n",
      "cffi                1.14.5\n",
      "colorama            0.4.4\n",
      "cycler              0.10.0\n",
      "decorator           5.0.6\n",
      "defusedxml          0.7.1\n",
      "entrypoints         0.3\n",
      "importlib-metadata  3.10.0\n",
      "ipykernel           5.3.4\n",
      "ipython             7.16.1\n",
      "ipython-genutils    0.2.0\n",
      "ipywidgets          7.6.3\n",
      "jedi                0.17.0\n",
      "Jinja2              2.11.3\n",
      "joblib              1.0.1\n",
      "jsonschema          3.2.0\n",
      "jupyter             1.0.0\n",
      "jupyter-client      6.1.12\n",
      "jupyter-console     6.4.0\n",
      "jupyter-core        4.7.1\n",
      "jupyterlab-pygments 0.1.2\n",
      "jupyterlab-widgets  1.0.0\n",
      "kiwisolver          1.3.1\n",
      "MarkupSafe          1.1.1\n",
      "matplotlib          3.3.4\n",
      "mistune             0.8.4\n",
      "nbclient            0.5.3\n",
      "nbconvert           6.0.7\n",
      "nbformat            5.1.3\n",
      "nest-asyncio        1.5.1\n",
      "notebook            6.3.0\n",
      "numpy               1.19.5\n",
      "packaging           20.9\n",
      "pandas              1.1.5\n",
      "pandocfilters       1.4.3\n",
      "parso               0.8.2\n",
      "pickleshare         0.7.5\n",
      "Pillow              8.2.0\n",
      "pip                 21.0.1\n",
      "prometheus-client   0.10.0\n",
      "prompt-toolkit      3.0.17\n",
      "pycparser           2.20\n",
      "Pygments            2.8.1\n",
      "pyparsing           2.4.7\n",
      "pyrsistent          0.17.3\n",
      "python-dateutil     2.8.1\n",
      "pytz                2021.1\n",
      "pywin32             227\n",
      "pywinpty            0.5.7\n",
      "pyzmq               20.0.0\n",
      "qtconsole           5.0.3\n",
      "QtPy                1.9.0\n",
      "scikit-learn        0.24.1\n",
      "scipy               1.5.4\n",
      "Send2Trash          1.5.0\n",
      "setuptools          52.0.0.post20210125\n",
      "six                 1.15.0\n",
      "terminado           0.9.4\n",
      "testpath            0.4.4\n",
      "threadpoolctl       2.1.0\n",
      "tornado             6.1\n",
      "traitlets           4.3.3\n",
      "typing-extensions   3.7.4.3\n",
      "wcwidth             0.2.5\n",
      "webencodings        0.5.1\n",
      "wheel               0.36.2\n",
      "widgetsnbextension  3.5.1\n",
      "wincertstore        0.2\n",
      "xlrd                2.0.1\n",
      "zipp                3.4.1\n"
     ]
    }
   ],
   "source": [
    "!pip list"
   ]
  },
  {
   "cell_type": "markdown",
   "id": "7891cb6e",
   "metadata": {},
   "source": [
    "## ndarray 생성"
   ]
  },
  {
   "cell_type": "code",
   "execution_count": 7,
   "id": "0447837e",
   "metadata": {},
   "outputs": [],
   "source": [
    "arr = np.array([1,2,3,4], dtype = int)"
   ]
  },
  {
   "cell_type": "code",
   "execution_count": 8,
   "id": "2c62fddd",
   "metadata": {},
   "outputs": [
    {
     "data": {
      "text/plain": [
       "array([1, 2, 3, 4])"
      ]
     },
     "execution_count": 8,
     "metadata": {},
     "output_type": "execute_result"
    }
   ],
   "source": [
    "arr"
   ]
  },
  {
   "cell_type": "code",
   "execution_count": 9,
   "id": "fece1fd9",
   "metadata": {},
   "outputs": [
    {
     "data": {
      "text/plain": [
       "numpy.ndarray"
      ]
     },
     "execution_count": 9,
     "metadata": {},
     "output_type": "execute_result"
    }
   ],
   "source": [
    "type(arr)"
   ]
  },
  {
   "cell_type": "code",
   "execution_count": 10,
   "id": "937fd185",
   "metadata": {},
   "outputs": [
    {
     "data": {
      "text/plain": [
       "(4,)"
      ]
     },
     "execution_count": 10,
     "metadata": {},
     "output_type": "execute_result"
    }
   ],
   "source": [
    "arr.shape # 4행"
   ]
  },
  {
   "cell_type": "code",
   "execution_count": 11,
   "id": "5e7485a2",
   "metadata": {},
   "outputs": [],
   "source": [
    "# 1차원 리스트\n",
    "myList = [1,2,3,4] # python에 list 타입으로 데이터를 집어 넣어 줌. python 에 먼저 list 생성하고\n",
    "arr = np.array(myList, dtype=float) # numpy arr 에서는 그 리스트를 바탕으로 arrary 생성\n",
    "#. shape 찍을려면 np arrary 로 리스트를 넣어야 함. \n",
    "# 사람들이 헷갈리는 부분: numpy 로 arrary 리스트 넣어야 shape을 찍을 수 있는데 , 파이썬에서 리스트 만들고 shape을 찍으려 함. "
   ]
  },
  {
   "cell_type": "code",
   "execution_count": 12,
   "id": "84a9aa3f",
   "metadata": {},
   "outputs": [
    {
     "data": {
      "text/plain": [
       "array([1., 2., 3., 4.])"
      ]
     },
     "execution_count": 12,
     "metadata": {},
     "output_type": "execute_result"
    }
   ],
   "source": [
    "arr"
   ]
  },
  {
   "cell_type": "code",
   "execution_count": 13,
   "id": "a865b749",
   "metadata": {},
   "outputs": [],
   "source": [
    "# 퀴즈\n",
    "myList = [1.3, 2.3,3.3,4.3]\n",
    "arr = np.array(myList, dtype = int)"
   ]
  },
  {
   "cell_type": "code",
   "execution_count": 14,
   "id": "1965db6b",
   "metadata": {},
   "outputs": [
    {
     "data": {
      "text/plain": [
       "array([1, 2, 3, 4])"
      ]
     },
     "execution_count": 14,
     "metadata": {},
     "output_type": "execute_result"
    }
   ],
   "source": [
    "arr # 형변환이 일어남 알아서. 워닝도 안주기 때문에 확인해야 함. 짤라버림. 1차원리스트에서는 형변환을 안시켜도 알아서 일어남. "
   ]
  },
  {
   "cell_type": "code",
   "execution_count": 16,
   "id": "6539bab2",
   "metadata": {},
   "outputs": [],
   "source": [
    "# 2차원 리스트\n",
    "myList2 = [\n",
    "    [1,2,3,4],\n",
    "    [5,6,7,8]\n",
    "]"
   ]
  },
  {
   "cell_type": "code",
   "execution_count": 17,
   "id": "13058355",
   "metadata": {},
   "outputs": [
    {
     "data": {
      "text/plain": [
       "[[1, 2, 3, 4], [5, 6, 7, 8]]"
      ]
     },
     "execution_count": 17,
     "metadata": {},
     "output_type": "execute_result"
    }
   ],
   "source": [
    "myList2"
   ]
  },
  {
   "cell_type": "code",
   "execution_count": 18,
   "id": "b4253adb",
   "metadata": {},
   "outputs": [],
   "source": [
    "arr = np.array(myList2)"
   ]
  },
  {
   "cell_type": "code",
   "execution_count": 19,
   "id": "5f2bea9f",
   "metadata": {},
   "outputs": [
    {
     "data": {
      "text/plain": [
       "(2, 4)"
      ]
     },
     "execution_count": 19,
     "metadata": {},
     "output_type": "execute_result"
    }
   ],
   "source": [
    "arr.shape"
   ]
  },
  {
   "cell_type": "code",
   "execution_count": 20,
   "id": "c9ccec7a",
   "metadata": {},
   "outputs": [
    {
     "data": {
      "text/plain": [
       "numpy.ndarray"
      ]
     },
     "execution_count": 20,
     "metadata": {},
     "output_type": "execute_result"
    }
   ],
   "source": [
    "type(arr) # dtype = int 설정안했는데 안의 값이 int 인경우 알아서 int 으로 나옴\n",
    "# 만약 소숫점 1개라도 들어가면 전체가 float 로 들어감. "
   ]
  },
  {
   "cell_type": "code",
   "execution_count": 22,
   "id": "2c8c06fe",
   "metadata": {},
   "outputs": [],
   "source": [
    "myList = [1,3.14,'hello','1234']"
   ]
  },
  {
   "cell_type": "code",
   "execution_count": 23,
   "id": "2b25b447",
   "metadata": {},
   "outputs": [
    {
     "data": {
      "text/plain": [
       "[1, 3.14, 'hello', '1234']"
      ]
     },
     "execution_count": 23,
     "metadata": {},
     "output_type": "execute_result"
    }
   ],
   "source": [
    "myList"
   ]
  },
  {
   "cell_type": "code",
   "execution_count": 24,
   "id": "c030dece",
   "metadata": {},
   "outputs": [],
   "source": [
    "arr = np.array(myList)"
   ]
  },
  {
   "cell_type": "code",
   "execution_count": 25,
   "id": "03540901",
   "metadata": {},
   "outputs": [
    {
     "data": {
      "text/plain": [
       "array(['1', '3.14', 'hello', '1234'], dtype='<U32')"
      ]
     },
     "execution_count": 25,
     "metadata": {},
     "output_type": "execute_result"
    }
   ],
   "source": [
    "arr # 전부 문자열로 바뀜. 최대한 왜곡시키지 않고 받아들이는 방법.\n",
    "#dtype = '<U5' : 가장 긴길이가 5글자라서 나옴. "
   ]
  },
  {
   "cell_type": "code",
   "execution_count": 26,
   "id": "21a1522a",
   "metadata": {},
   "outputs": [
    {
     "data": {
      "text/plain": [
       "'13.14'"
      ]
     },
     "execution_count": 26,
     "metadata": {},
     "output_type": "execute_result"
    }
   ],
   "source": [
    "arr[0]+arr[1]"
   ]
  },
  {
   "cell_type": "code",
   "execution_count": 27,
   "id": "2f47b2ce",
   "metadata": {},
   "outputs": [
    {
     "data": {
      "text/plain": [
       "13.14"
      ]
     },
     "execution_count": 27,
     "metadata": {},
     "output_type": "execute_result"
    }
   ],
   "source": [
    "float(arr[0]+arr[1]) # 문자끼리 더한후에 형변환 한 걸로 나옴. "
   ]
  },
  {
   "cell_type": "code",
   "execution_count": 28,
   "id": "2fb93ce8",
   "metadata": {},
   "outputs": [
    {
     "data": {
      "text/plain": [
       "4.140000000000001"
      ]
     },
     "execution_count": 28,
     "metadata": {},
     "output_type": "execute_result"
    }
   ],
   "source": [
    "float(arr[0])+float(arr[1]) # 각 따로 형변환 먼저 시키고 더해야 소수가 나옴"
   ]
  },
  {
   "cell_type": "markdown",
   "id": "546f521d",
   "metadata": {},
   "source": [
    "## 슬라이싱(Slicing)\n",
    "\n",
    "배열을 부분 선택"
   ]
  },
  {
   "cell_type": "markdown",
   "id": "3f75e0e4",
   "metadata": {},
   "source": [
    "#### 1차원 배열의 부분 선택"
   ]
  },
  {
   "cell_type": "code",
   "execution_count": 29,
   "id": "7c741e7c",
   "metadata": {},
   "outputs": [
    {
     "data": {
      "text/plain": [
       "(10,)"
      ]
     },
     "execution_count": 29,
     "metadata": {},
     "output_type": "execute_result"
    }
   ],
   "source": [
    "arr = np.array([0,1,2,3,4,5,6,7,8,9]) # 시작번호는 0번부터 시작한다. \n",
    "arr.shape"
   ]
  },
  {
   "cell_type": "code",
   "execution_count": 30,
   "id": "72dd7511",
   "metadata": {},
   "outputs": [
    {
     "data": {
      "text/plain": [
       "2"
      ]
     },
     "execution_count": 30,
     "metadata": {},
     "output_type": "execute_result"
    }
   ],
   "source": [
    "arr[2]"
   ]
  },
  {
   "cell_type": "code",
   "execution_count": 31,
   "id": "e1241896",
   "metadata": {},
   "outputs": [
    {
     "ename": "IndexError",
     "evalue": "index 10 is out of bounds for axis 0 with size 10",
     "output_type": "error",
     "traceback": [
      "\u001b[1;31m---------------------------------------------------------------------------\u001b[0m",
      "\u001b[1;31mIndexError\u001b[0m                                Traceback (most recent call last)",
      "\u001b[1;32m<ipython-input-31-ff656e92d79c>\u001b[0m in \u001b[0;36m<module>\u001b[1;34m\u001b[0m\n\u001b[1;32m----> 1\u001b[1;33m \u001b[0marr\u001b[0m\u001b[1;33m[\u001b[0m\u001b[1;36m10\u001b[0m\u001b[1;33m]\u001b[0m\u001b[1;33m\u001b[0m\u001b[1;33m\u001b[0m\u001b[0m\n\u001b[0m",
      "\u001b[1;31mIndexError\u001b[0m: index 10 is out of bounds for axis 0 with size 10"
     ]
    }
   ],
   "source": [
    "arr[10] # Index 범위 지정한 것을 넘어갔구나! IndexError: 범위를 벗어남."
   ]
  },
  {
   "cell_type": "code",
   "execution_count": 33,
   "id": "fb66e619",
   "metadata": {},
   "outputs": [
    {
     "data": {
      "text/plain": [
       "9"
      ]
     },
     "execution_count": 33,
     "metadata": {},
     "output_type": "execute_result"
    }
   ],
   "source": [
    "arr[-1] # 뒤에서 첫번째. 양수로 시작시 0이 첫번째인데 뒤에선 -1 이 끝에서 첫번째임.  "
   ]
  },
  {
   "cell_type": "code",
   "execution_count": 34,
   "id": "a5d7447a",
   "metadata": {},
   "outputs": [
    {
     "data": {
      "text/plain": [
       "0"
      ]
     },
     "execution_count": 34,
     "metadata": {},
     "output_type": "execute_result"
    }
   ],
   "source": [
    "# 뒤에서 거꾸로 0을 가지고 오고 싶다면 -10\n",
    "arr[-10]"
   ]
  },
  {
   "cell_type": "code",
   "execution_count": 35,
   "id": "1f2ac1d8",
   "metadata": {},
   "outputs": [
    {
     "ename": "IndexError",
     "evalue": "index -11 is out of bounds for axis 0 with size 10",
     "output_type": "error",
     "traceback": [
      "\u001b[1;31m---------------------------------------------------------------------------\u001b[0m",
      "\u001b[1;31mIndexError\u001b[0m                                Traceback (most recent call last)",
      "\u001b[1;32m<ipython-input-35-91f133f07612>\u001b[0m in \u001b[0;36m<module>\u001b[1;34m\u001b[0m\n\u001b[1;32m----> 1\u001b[1;33m \u001b[0marr\u001b[0m\u001b[1;33m[\u001b[0m\u001b[1;33m-\u001b[0m\u001b[1;36m11\u001b[0m\u001b[1;33m]\u001b[0m\u001b[1;33m\u001b[0m\u001b[1;33m\u001b[0m\u001b[0m\n\u001b[0m",
      "\u001b[1;31mIndexError\u001b[0m: index -11 is out of bounds for axis 0 with size 10"
     ]
    }
   ],
   "source": [
    "arr[-11] # 이것도 범위 이상으로는 허용하지 않음. "
   ]
  },
  {
   "cell_type": "markdown",
   "id": "55ce6d1d",
   "metadata": {},
   "source": [
    "#### 2차원 배열의 부분 선택"
   ]
  },
  {
   "cell_type": "code",
   "execution_count": 36,
   "id": "6f995149",
   "metadata": {},
   "outputs": [],
   "source": [
    "arr2d = np.array([[1,2,3,4],[5,6,7,8],[9,10,11,12]])"
   ]
  },
  {
   "cell_type": "code",
   "execution_count": 37,
   "id": "c7bf5db0",
   "metadata": {},
   "outputs": [
    {
     "data": {
      "text/plain": [
       "array([[ 1,  2,  3,  4],\n",
       "       [ 5,  6,  7,  8],\n",
       "       [ 9, 10, 11, 12]])"
      ]
     },
     "execution_count": 37,
     "metadata": {},
     "output_type": "execute_result"
    }
   ],
   "source": [
    "arr2d"
   ]
  },
  {
   "cell_type": "code",
   "execution_count": 38,
   "id": "a13cee60",
   "metadata": {},
   "outputs": [
    {
     "ename": "NameError",
     "evalue": "name 'arange' is not defined",
     "output_type": "error",
     "traceback": [
      "\u001b[1;31m---------------------------------------------------------------------------\u001b[0m",
      "\u001b[1;31mNameError\u001b[0m                                 Traceback (most recent call last)",
      "\u001b[1;32m<ipython-input-38-a4f334d1dd0e>\u001b[0m in \u001b[0;36m<module>\u001b[1;34m\u001b[0m\n\u001b[1;32m----> 1\u001b[1;33m \u001b[0marr1d\u001b[0m \u001b[1;33m=\u001b[0m \u001b[0mnp\u001b[0m\u001b[1;33m.\u001b[0m\u001b[0marray\u001b[0m\u001b[1;33m(\u001b[0m\u001b[0marange\u001b[0m\u001b[1;33m(\u001b[0m\u001b[1;36m12\u001b[0m\u001b[1;33m)\u001b[0m\u001b[1;33m)\u001b[0m\u001b[1;33m\u001b[0m\u001b[1;33m\u001b[0m\u001b[0m\n\u001b[0m",
      "\u001b[1;31mNameError\u001b[0m: name 'arange' is not defined"
     ]
    }
   ],
   "source": [
    "arr1d = np.array(arange(12))"
   ]
  },
  {
   "cell_type": "code",
   "execution_count": 39,
   "id": "b92d69df",
   "metadata": {},
   "outputs": [],
   "source": [
    "arr1d = np.array(np.arange(12))"
   ]
  },
  {
   "cell_type": "code",
   "execution_count": 40,
   "id": "09a6b4c2",
   "metadata": {},
   "outputs": [
    {
     "data": {
      "text/plain": [
       "array([ 0,  1,  2,  3,  4,  5,  6,  7,  8,  9, 10, 11])"
      ]
     },
     "execution_count": 40,
     "metadata": {},
     "output_type": "execute_result"
    }
   ],
   "source": [
    "arr1d"
   ]
  },
  {
   "cell_type": "code",
   "execution_count": 41,
   "id": "4a66f51a",
   "metadata": {},
   "outputs": [
    {
     "data": {
      "text/plain": [
       "array([[ 0,  1,  2,  3],\n",
       "       [ 4,  5,  6,  7],\n",
       "       [ 8,  9, 10, 11]])"
      ]
     },
     "execution_count": 41,
     "metadata": {},
     "output_type": "execute_result"
    }
   ],
   "source": [
    "arr1d.reshape(-1,4) # 시작이 0인것 그대로 시작. 근데 원하는건 1부터 나오길 원함. "
   ]
  },
  {
   "cell_type": "code",
   "execution_count": 42,
   "id": "985181e0",
   "metadata": {},
   "outputs": [],
   "source": [
    "# np.arange(12): 시작값은 0이고(생략), 종료조건이 12 미만인경우\n",
    "# np.arange(1,13): 시작값이 1이고, 종료조건 13 미만\n",
    "arr1d = np.array(np.arange(1,13)).reshape(3,4)"
   ]
  },
  {
   "cell_type": "code",
   "execution_count": 43,
   "id": "7ab97e1c",
   "metadata": {},
   "outputs": [
    {
     "data": {
      "text/plain": [
       "array([[ 1,  2,  3,  4],\n",
       "       [ 5,  6,  7,  8],\n",
       "       [ 9, 10, 11, 12]])"
      ]
     },
     "execution_count": 43,
     "metadata": {},
     "output_type": "execute_result"
    }
   ],
   "source": [
    "arr1d"
   ]
  },
  {
   "cell_type": "code",
   "execution_count": 44,
   "id": "da44fd12",
   "metadata": {},
   "outputs": [
    {
     "data": {
      "text/plain": [
       "3"
      ]
     },
     "execution_count": 44,
     "metadata": {},
     "output_type": "execute_result"
    }
   ],
   "source": [
    "arr2d[0,2] # 행과 열 0부터 시작됨.\n",
    "# 0행의 2열에 있는 거 가져와라."
   ]
  },
  {
   "cell_type": "code",
   "execution_count": 45,
   "id": "fbed9ed5",
   "metadata": {},
   "outputs": [
    {
     "data": {
      "text/plain": [
       "11"
      ]
     },
     "execution_count": 45,
     "metadata": {},
     "output_type": "execute_result"
    }
   ],
   "source": [
    "arr2d[2,2]"
   ]
  },
  {
   "cell_type": "code",
   "execution_count": 46,
   "id": "c6a23fbf",
   "metadata": {},
   "outputs": [],
   "source": [
    "arr1d = np.array(np.arange(1,13))"
   ]
  },
  {
   "cell_type": "code",
   "execution_count": 47,
   "id": "f442d559",
   "metadata": {},
   "outputs": [
    {
     "data": {
      "text/plain": [
       "array([ 1,  2,  3,  4,  5,  6,  7,  8,  9, 10, 11, 12])"
      ]
     },
     "execution_count": 47,
     "metadata": {},
     "output_type": "execute_result"
    }
   ],
   "source": [
    "arr1d"
   ]
  },
  {
   "cell_type": "code",
   "execution_count": 48,
   "id": "3d0efd4b",
   "metadata": {},
   "outputs": [
    {
     "data": {
      "text/plain": [
       "array([ 2,  3,  4,  5,  6,  7,  8,  9, 10, 11, 12])"
      ]
     },
     "execution_count": 48,
     "metadata": {},
     "output_type": "execute_result"
    }
   ],
   "source": [
    "# 2-12 까지만\n",
    "# 시작값 : 종료값 ( 생략하면 끝까지)\n",
    "arr1d[1:] # 0번 생략, 1번부터 끝까지"
   ]
  },
  {
   "cell_type": "code",
   "execution_count": 49,
   "id": "9a66cf50",
   "metadata": {},
   "outputs": [
    {
     "data": {
      "text/plain": [
       "array([ 2,  3,  4,  5,  6,  7,  8,  9, 10])"
      ]
     },
     "execution_count": 49,
     "metadata": {},
     "output_type": "execute_result"
    }
   ],
   "source": [
    "# 시작값(이상) : 종료값 (index 값의 미만. 자기를 포함하지 않음.)\n",
    "arr1d[1:10] # 10미만이라 10까지 나온것임. 여기서 10이 인덱스 9번자리. "
   ]
  },
  {
   "cell_type": "code",
   "execution_count": 50,
   "id": "8ec47ed0",
   "metadata": {},
   "outputs": [
    {
     "data": {
      "text/plain": [
       "array([ 1,  2,  3,  4,  5,  6,  7,  8,  9, 10, 11, 12])"
      ]
     },
     "execution_count": 50,
     "metadata": {},
     "output_type": "execute_result"
    }
   ],
   "source": [
    "arr1d[:]"
   ]
  },
  {
   "cell_type": "code",
   "execution_count": 51,
   "id": "106a3845",
   "metadata": {},
   "outputs": [
    {
     "data": {
      "text/plain": [
       "array([ 1,  2,  3,  4,  5,  6,  7,  8,  9, 10, 11])"
      ]
     },
     "execution_count": 51,
     "metadata": {},
     "output_type": "execute_result"
    }
   ],
   "source": [
    "arr1d[:-1] # 뒤에있는 것 하나를 빼자. 12 빠지는 것임"
   ]
  },
  {
   "cell_type": "code",
   "execution_count": 52,
   "id": "c87319eb",
   "metadata": {},
   "outputs": [
    {
     "data": {
      "text/plain": [
       "array([ 1,  2,  3,  4,  5,  6,  7,  8,  9, 10])"
      ]
     },
     "execution_count": 52,
     "metadata": {},
     "output_type": "execute_result"
    }
   ],
   "source": [
    "arr1d[:-2] # 뒤에서 두개를 빼자. 12, 11 빠짐 "
   ]
  },
  {
   "cell_type": "code",
   "execution_count": 53,
   "id": "228f43b9",
   "metadata": {},
   "outputs": [
    {
     "data": {
      "text/plain": [
       "array([], dtype=int32)"
      ]
     },
     "execution_count": 53,
     "metadata": {},
     "output_type": "execute_result"
    }
   ],
   "source": [
    "arr1d[:0]"
   ]
  },
  {
   "cell_type": "code",
   "execution_count": 54,
   "id": "9b63b546",
   "metadata": {},
   "outputs": [
    {
     "data": {
      "text/plain": [
       "array([5, 6, 7, 8])"
      ]
     },
     "execution_count": 54,
     "metadata": {},
     "output_type": "execute_result"
    }
   ],
   "source": [
    "# 한 행 지정한 뒤 모두 가져오는 경우\n",
    "# 행, 열 = (: 모든 열)\n",
    "\n",
    "arr2d[1,:] # 1행의 모든 것을 가져와라. "
   ]
  },
  {
   "cell_type": "code",
   "execution_count": 55,
   "id": "e6d4de2e",
   "metadata": {},
   "outputs": [
    {
     "data": {
      "text/plain": [
       "(4,)"
      ]
     },
     "execution_count": 55,
     "metadata": {},
     "output_type": "execute_result"
    }
   ],
   "source": [
    "arr2d[1,:].shape # 4행 "
   ]
  },
  {
   "cell_type": "code",
   "execution_count": 56,
   "id": "38816356",
   "metadata": {},
   "outputs": [
    {
     "data": {
      "text/plain": [
       "array([ 3,  7, 11])"
      ]
     },
     "execution_count": 56,
     "metadata": {},
     "output_type": "execute_result"
    }
   ],
   "source": [
    "arr2d[:,2]"
   ]
  },
  {
   "cell_type": "code",
   "execution_count": 57,
   "id": "2ef05c93",
   "metadata": {},
   "outputs": [
    {
     "data": {
      "text/plain": [
       "(4,)"
      ]
     },
     "execution_count": 57,
     "metadata": {},
     "output_type": "execute_result"
    }
   ],
   "source": [
    "arr2d[1,:].shape"
   ]
  },
  {
   "cell_type": "code",
   "execution_count": 58,
   "id": "cadc1085",
   "metadata": {},
   "outputs": [
    {
     "data": {
      "text/plain": [
       "array([[2, 3],\n",
       "       [6, 7]])"
      ]
     },
     "execution_count": 58,
     "metadata": {},
     "output_type": "execute_result"
    }
   ],
   "source": [
    "arr2d[:2,1:3]"
   ]
  },
  {
   "cell_type": "code",
   "execution_count": 59,
   "id": "7d971f5b",
   "metadata": {},
   "outputs": [],
   "source": [
    "# 5x5 배열, 1부터 1씩 증가하는 배열 (1-25)\n",
    "# 12,13,14 / 17,18,19 / 22,23,24 가져오기 (3,4,5행의 각 열 2,3,4열임)\n",
    "my2darr = np.array(np.arange(1,26)).reshape(5,5)"
   ]
  },
  {
   "cell_type": "code",
   "execution_count": 60,
   "id": "7ecdf3d8",
   "metadata": {},
   "outputs": [
    {
     "data": {
      "text/plain": [
       "array([[ 1,  2,  3,  4,  5],\n",
       "       [ 6,  7,  8,  9, 10],\n",
       "       [11, 12, 13, 14, 15],\n",
       "       [16, 17, 18, 19, 20],\n",
       "       [21, 22, 23, 24, 25]])"
      ]
     },
     "execution_count": 60,
     "metadata": {},
     "output_type": "execute_result"
    }
   ],
   "source": [
    "my2darr"
   ]
  },
  {
   "cell_type": "code",
   "execution_count": 61,
   "id": "f8f03878",
   "metadata": {},
   "outputs": [
    {
     "data": {
      "text/plain": [
       "array([[12, 13, 14],\n",
       "       [17, 18, 19],\n",
       "       [22, 23, 24]])"
      ]
     },
     "execution_count": 61,
     "metadata": {},
     "output_type": "execute_result"
    }
   ],
   "source": [
    "my2darr[2:,1:4]"
   ]
  },
  {
   "cell_type": "markdown",
   "id": "61ffe81e",
   "metadata": {},
   "source": [
    "## Fancy Indexing\n",
    "\n",
    "범위가 아닌 특정 index값을 선택해서 추출하고 싶을 때"
   ]
  },
  {
   "cell_type": "code",
   "execution_count": 62,
   "id": "60f93a99",
   "metadata": {},
   "outputs": [],
   "source": [
    "# 1차원의 Fancy indexing\n",
    "myArr = np.array(np.arange(1,10))"
   ]
  },
  {
   "cell_type": "code",
   "execution_count": 63,
   "id": "98ce91c1",
   "metadata": {},
   "outputs": [
    {
     "data": {
      "text/plain": [
       "array([1, 2, 3, 4, 5, 6, 7, 8, 9])"
      ]
     },
     "execution_count": 63,
     "metadata": {},
     "output_type": "execute_result"
    }
   ],
   "source": [
    "myArr"
   ]
  },
  {
   "cell_type": "code",
   "execution_count": 67,
   "id": "0593e8e2",
   "metadata": {},
   "outputs": [],
   "source": [
    "idx = [0,2,4] # 0,2,4번 의 인덱싱. (1, 3, 5 임)"
   ]
  },
  {
   "cell_type": "code",
   "execution_count": 68,
   "id": "229d54df",
   "metadata": {},
   "outputs": [
    {
     "data": {
      "text/plain": [
       "array([1, 3, 5])"
      ]
     },
     "execution_count": 68,
     "metadata": {},
     "output_type": "execute_result"
    }
   ],
   "source": [
    "myArr[idx]"
   ]
  },
  {
   "cell_type": "code",
   "execution_count": 69,
   "id": "f6a6dcab",
   "metadata": {},
   "outputs": [
    {
     "data": {
      "text/plain": [
       "array([[ 1,  2,  3,  4],\n",
       "       [ 5,  6,  7,  8],\n",
       "       [ 9, 10, 11, 12]])"
      ]
     },
     "execution_count": 69,
     "metadata": {},
     "output_type": "execute_result"
    }
   ],
   "source": [
    "# 2차원의 Fancy indexing\n",
    "my2dArr = np.array(np.arange(1,13)).reshape(3,4)\n",
    "my2dArr"
   ]
  },
  {
   "cell_type": "code",
   "execution_count": 73,
   "id": "754db696",
   "metadata": {},
   "outputs": [],
   "source": [
    "# 0번 과 1번 행 가져오기 위한 인덱스 먼저 만들기\n",
    "idx = [0,2,3]"
   ]
  },
  {
   "cell_type": "code",
   "execution_count": 74,
   "id": "98bf80eb",
   "metadata": {},
   "outputs": [
    {
     "data": {
      "text/plain": [
       "array([[1, 3, 4],\n",
       "       [5, 7, 8]])"
      ]
     },
     "execution_count": 74,
     "metadata": {},
     "output_type": "execute_result"
    }
   ],
   "source": [
    "my2dArr[:2,idx]"
   ]
  },
  {
   "cell_type": "markdown",
   "id": "fba400b3",
   "metadata": {},
   "source": [
    "## Boolean Indexing - 필터 조건 활용케이스가 가장 많음\n",
    "\n",
    "조건 필터링을 통해서 Boolean 값을 이용한 색인"
   ]
  },
  {
   "cell_type": "code",
   "execution_count": 77,
   "id": "5cd243dd",
   "metadata": {},
   "outputs": [
    {
     "data": {
      "text/plain": [
       "array([1, 2, 3, 4, 5, 6, 7])"
      ]
     },
     "execution_count": 77,
     "metadata": {},
     "output_type": "execute_result"
    }
   ],
   "source": [
    "arr = np.array(np.arange(1,8))\n",
    "arr"
   ]
  },
  {
   "cell_type": "code",
   "execution_count": 79,
   "id": "402cbf2d",
   "metadata": {},
   "outputs": [
    {
     "data": {
      "text/plain": [
       "array([[ 1,  2,  3,  4],\n",
       "       [ 5,  6,  7,  8],\n",
       "       [ 9, 10, 11, 12]])"
      ]
     },
     "execution_count": 79,
     "metadata": {},
     "output_type": "execute_result"
    }
   ],
   "source": [
    "arr2d = np.array(np.arange(1,13)).reshape(3,4)\n",
    "arr2d"
   ]
  },
  {
   "cell_type": "code",
   "execution_count": 82,
   "id": "dec0aca6",
   "metadata": {},
   "outputs": [],
   "source": [
    "myTrueFalse = [True, False, True, False, False, False, False]"
   ]
  },
  {
   "cell_type": "code",
   "execution_count": 84,
   "id": "388c5703",
   "metadata": {},
   "outputs": [
    {
     "data": {
      "text/plain": [
       "array([1, 3])"
      ]
     },
     "execution_count": 84,
     "metadata": {},
     "output_type": "execute_result"
    }
   ],
   "source": [
    "arr[myTrueFalse]"
   ]
  },
  {
   "cell_type": "code",
   "execution_count": 90,
   "id": "f1329dc0",
   "metadata": {},
   "outputs": [],
   "source": [
    "myTrueFalse = [[True, False, True, False],[True, False, True, False],[False,False,False,False]]"
   ]
  },
  {
   "cell_type": "code",
   "execution_count": 91,
   "id": "247edbcd",
   "metadata": {},
   "outputs": [],
   "source": [
    "TrueFalse = np.array(myTrueFalse)"
   ]
  },
  {
   "cell_type": "code",
   "execution_count": 93,
   "id": "fba8f7d9",
   "metadata": {},
   "outputs": [
    {
     "data": {
      "text/plain": [
       "array([1, 3, 5, 7])"
      ]
     },
     "execution_count": 93,
     "metadata": {},
     "output_type": "execute_result"
    }
   ],
   "source": [
    "arr2d[TrueFalse]"
   ]
  },
  {
   "cell_type": "code",
   "execution_count": 94,
   "id": "226bfe44",
   "metadata": {},
   "outputs": [
    {
     "data": {
      "text/plain": [
       "array([[False, False,  True,  True],\n",
       "       [ True,  True,  True,  True],\n",
       "       [ True,  True,  True,  True]])"
      ]
     },
     "execution_count": 94,
     "metadata": {},
     "output_type": "execute_result"
    }
   ],
   "source": [
    "# 조건 필터\n",
    "arr2d > 2"
   ]
  },
  {
   "cell_type": "code",
   "execution_count": 96,
   "id": "7db90661",
   "metadata": {},
   "outputs": [],
   "source": [
    "TrueFalse = arr2d > 2"
   ]
  },
  {
   "cell_type": "code",
   "execution_count": 97,
   "id": "7e412064",
   "metadata": {},
   "outputs": [
    {
     "data": {
      "text/plain": [
       "array([ 3,  4,  5,  6,  7,  8,  9, 10, 11, 12])"
      ]
     },
     "execution_count": 97,
     "metadata": {},
     "output_type": "execute_result"
    }
   ],
   "source": [
    "arr2d[TrueFalse]"
   ]
  },
  {
   "cell_type": "code",
   "execution_count": 98,
   "id": "2c36a140",
   "metadata": {},
   "outputs": [
    {
     "data": {
      "text/plain": [
       "array([ 3,  4,  5,  6,  7,  8,  9, 10, 11, 12])"
      ]
     },
     "execution_count": 98,
     "metadata": {},
     "output_type": "execute_result"
    }
   ],
   "source": [
    "arr2d[arr2d>2] # 조건 필터구나! true 에 해당하는 데이터만 가져온다. "
   ]
  },
  {
   "cell_type": "code",
   "execution_count": 99,
   "id": "6dfaf6ed",
   "metadata": {},
   "outputs": [
    {
     "data": {
      "text/plain": [
       "array([1, 2, 3, 4])"
      ]
     },
     "execution_count": 99,
     "metadata": {},
     "output_type": "execute_result"
    }
   ],
   "source": [
    "arr2d[arr2d<5]"
   ]
  },
  {
   "cell_type": "markdown",
   "id": "e8311ca5",
   "metadata": {},
   "source": [
    "## arange 란?\n",
    "\n",
    "array + range = arange"
   ]
  },
  {
   "cell_type": "code",
   "execution_count": 104,
   "id": "3f7596f4",
   "metadata": {},
   "outputs": [],
   "source": [
    "arr = [1,2,3,4,5,6,7,8,9,10]"
   ]
  },
  {
   "cell_type": "code",
   "execution_count": 105,
   "id": "4b57263c",
   "metadata": {},
   "outputs": [
    {
     "data": {
      "text/plain": [
       "array([ 1,  2,  3,  4,  5,  6,  7,  8,  9, 10])"
      ]
     },
     "execution_count": 105,
     "metadata": {},
     "output_type": "execute_result"
    }
   ],
   "source": [
    "# start (이상), stop(미만)\n",
    "arr = np.arange(1,11)\n",
    "arr"
   ]
  },
  {
   "cell_type": "code",
   "execution_count": 107,
   "id": "2698c6ba",
   "metadata": {},
   "outputs": [
    {
     "data": {
      "text/plain": [
       "array([ 1,  2,  3,  4,  5,  6,  7,  8,  9, 10])"
      ]
     },
     "execution_count": 107,
     "metadata": {},
     "output_type": "execute_result"
    }
   ],
   "source": [
    "# 키워드를 사용해서 순서없이\n",
    "arr = np.arange(start=1, stop = 11)\n",
    "arr"
   ]
  },
  {
   "cell_type": "code",
   "execution_count": 109,
   "id": "d5fc74ae",
   "metadata": {},
   "outputs": [
    {
     "data": {
      "text/plain": [
       "array([1, 3, 5, 7, 9])"
      ]
     },
     "execution_count": 109,
     "metadata": {},
     "output_type": "execute_result"
    }
   ],
   "source": [
    "# (start, stop, step)\n",
    "# 홀수만 생성\n",
    "arr = np.arange(1,11,2)\n",
    "arr"
   ]
  },
  {
   "cell_type": "code",
   "execution_count": 110,
   "id": "455cdea6",
   "metadata": {},
   "outputs": [
    {
     "data": {
      "text/plain": [
       "array([1, 3, 5, 7, 9])"
      ]
     },
     "execution_count": 110,
     "metadata": {},
     "output_type": "execute_result"
    }
   ],
   "source": [
    "arr = np.arange(start=1, step=2, stop=11)\n",
    "arr"
   ]
  },
  {
   "cell_type": "markdown",
   "id": "b6f02a65",
   "metadata": {},
   "source": [
    "### range (numpy 와는 상관없는 python 문법)"
   ]
  },
  {
   "cell_type": "code",
   "execution_count": 111,
   "id": "b86da72e",
   "metadata": {},
   "outputs": [
    {
     "name": "stdout",
     "output_type": "stream",
     "text": [
      "range(1, 11)\n"
     ]
    }
   ],
   "source": [
    "# range 는 조건을 말할 뿐 아직 숫자가 생성 X\n",
    "test = range(1,11)\n",
    "print(test)"
   ]
  },
  {
   "cell_type": "code",
   "execution_count": 112,
   "id": "4571fed5",
   "metadata": {},
   "outputs": [
    {
     "name": "stdout",
     "output_type": "stream",
     "text": [
      "1\n",
      "2\n",
      "3\n",
      "4\n",
      "5\n",
      "6\n",
      "7\n",
      "8\n",
      "9\n",
      "10\n"
     ]
    }
   ],
   "source": [
    "for i in range(1,11):\n",
    "    print(i)"
   ]
  },
  {
   "cell_type": "code",
   "execution_count": 113,
   "id": "12fab7a7",
   "metadata": {},
   "outputs": [
    {
     "name": "stdout",
     "output_type": "stream",
     "text": [
      "1\n",
      "3\n",
      "5\n",
      "7\n",
      "9\n"
     ]
    }
   ],
   "source": [
    "for i in range(1,11,2):\n",
    "    print(i)"
   ]
  },
  {
   "cell_type": "markdown",
   "id": "0e6517e3",
   "metadata": {},
   "source": [
    "## 1차원 정렬"
   ]
  },
  {
   "cell_type": "code",
   "execution_count": 114,
   "id": "4ba682b9",
   "metadata": {},
   "outputs": [
    {
     "data": {
      "text/plain": [
       "array([ 1, 10,  5,  8,  2,  4,  3,  6,  7,  9])"
      ]
     },
     "execution_count": 114,
     "metadata": {},
     "output_type": "execute_result"
    }
   ],
   "source": [
    "arr = np.array([1,10,5,8,2,4,3,6,7,9])\n",
    "arr"
   ]
  },
  {
   "cell_type": "code",
   "execution_count": 115,
   "id": "170104cf",
   "metadata": {},
   "outputs": [
    {
     "data": {
      "text/plain": [
       "array([ 1,  2,  3,  4,  5,  6,  7,  8,  9, 10])"
      ]
     },
     "execution_count": 115,
     "metadata": {},
     "output_type": "execute_result"
    }
   ],
   "source": [
    "np.sort(arr) # 정렬해서 출력. array 자체를 바꿔서 저장해서 출력하는게 아님. "
   ]
  },
  {
   "cell_type": "code",
   "execution_count": 116,
   "id": "76f2f434",
   "metadata": {},
   "outputs": [
    {
     "data": {
      "text/plain": [
       "array([ 1, 10,  5,  8,  2,  4,  3,  6,  7,  9])"
      ]
     },
     "execution_count": 116,
     "metadata": {},
     "output_type": "execute_result"
    }
   ],
   "source": [
    "arr"
   ]
  },
  {
   "cell_type": "code",
   "execution_count": 117,
   "id": "2615985d",
   "metadata": {},
   "outputs": [
    {
     "data": {
      "text/plain": [
       "array([ 1,  2,  3,  4,  5,  6,  7,  8,  9, 10])"
      ]
     },
     "execution_count": 117,
     "metadata": {},
     "output_type": "execute_result"
    }
   ],
   "source": [
    "# 만약 바꾸고 싶다면\n",
    "mysort = np.sort(arr)\n",
    "mysort #ascending "
   ]
  },
  {
   "cell_type": "code",
   "execution_count": 118,
   "id": "3e394aca",
   "metadata": {},
   "outputs": [
    {
     "data": {
      "text/plain": [
       "array([10,  9,  8,  7,  6,  5,  4,  3,  2,  1])"
      ]
     },
     "execution_count": 118,
     "metadata": {},
     "output_type": "execute_result"
    }
   ],
   "source": [
    "# 내림차순 정렬일 경우 옵션값에 -1을 지정한다. \n",
    "np.sort(arr)[::-1] # desc"
   ]
  },
  {
   "cell_type": "markdown",
   "id": "718baf63",
   "metadata": {},
   "source": [
    "## 2차원 정렬"
   ]
  },
  {
   "cell_type": "code",
   "execution_count": 123,
   "id": "5a5fc792",
   "metadata": {},
   "outputs": [],
   "source": [
    "arr2d = np.array([[5,6,7,8],\n",
    "                 [4,3,2,1], \n",
    "                 [10,9,12,11]])"
   ]
  },
  {
   "cell_type": "code",
   "execution_count": 121,
   "id": "ffd33d9d",
   "metadata": {},
   "outputs": [
    {
     "data": {
      "text/plain": [
       "(3, 4)"
      ]
     },
     "execution_count": 121,
     "metadata": {},
     "output_type": "execute_result"
    }
   ],
   "source": [
    "arr2d.shape"
   ]
  },
  {
   "cell_type": "code",
   "execution_count": 124,
   "id": "1aa07d2a",
   "metadata": {},
   "outputs": [
    {
     "data": {
      "text/plain": [
       "array([[ 5,  6,  7,  8],\n",
       "       [ 4,  3,  2,  1],\n",
       "       [10,  9, 12, 11]])"
      ]
     },
     "execution_count": 124,
     "metadata": {},
     "output_type": "execute_result"
    }
   ],
   "source": [
    "arr2d"
   ]
  },
  {
   "cell_type": "code",
   "execution_count": 125,
   "id": "c9735725",
   "metadata": {},
   "outputs": [
    {
     "data": {
      "text/plain": [
       "array([[ 5,  6,  7,  8],\n",
       "       [ 1,  2,  3,  4],\n",
       "       [ 9, 10, 11, 12]])"
      ]
     },
     "execution_count": 125,
     "metadata": {},
     "output_type": "execute_result"
    }
   ],
   "source": [
    "# axis 축이 행인지, 열인지를 가리킨다.\n",
    "# axis=1 하면 같은 행안에서 정렬이 된다.\n",
    "np.sort(arr2d, axis =1)"
   ]
  },
  {
   "cell_type": "code",
   "execution_count": 126,
   "id": "41aafab6",
   "metadata": {},
   "outputs": [
    {
     "data": {
      "text/plain": [
       "array([[ 4,  3,  2,  1],\n",
       "       [ 5,  6,  7,  8],\n",
       "       [10,  9, 12, 11]])"
      ]
     },
     "execution_count": 126,
     "metadata": {},
     "output_type": "execute_result"
    }
   ],
   "source": [
    "# axis = 0이면 같은 열 안에서 정렬이 된다. (열끼리)\n",
    "np.sort(arr2d, axis =0)"
   ]
  },
  {
   "cell_type": "markdown",
   "id": "e449ded9",
   "metadata": {},
   "source": [
    "## index 를 반환하는 argsort"
   ]
  },
  {
   "cell_type": "code",
   "execution_count": 130,
   "id": "0e5fcb48",
   "metadata": {},
   "outputs": [
    {
     "data": {
      "text/plain": [
       "array([[ 5,  6,  7,  8],\n",
       "       [ 4,  3,  2,  1],\n",
       "       [10,  9, 12, 11]])"
      ]
     },
     "execution_count": 130,
     "metadata": {},
     "output_type": "execute_result"
    }
   ],
   "source": [
    "arr2d = np.array([[5,6,7,8],\n",
    "                 [4,3,2,1], \n",
    "                 [10,9,12,11]])\n",
    "arr2d"
   ]
  },
  {
   "cell_type": "code",
   "execution_count": 128,
   "id": "115a15fe",
   "metadata": {},
   "outputs": [
    {
     "data": {
      "text/plain": [
       "array([[0, 1, 2, 3],\n",
       "       [3, 2, 1, 0],\n",
       "       [1, 0, 3, 2]], dtype=int64)"
      ]
     },
     "execution_count": 128,
     "metadata": {},
     "output_type": "execute_result"
    }
   ],
   "source": [
    "# 열 정렬( 왼쪽 -> 오른쪽)\n",
    "np.argsort(arr2d, axis =1) # 인덱스를 의미 "
   ]
  },
  {
   "cell_type": "markdown",
   "id": "ee7a4861",
   "metadata": {},
   "source": [
    "## numpy 를 이용한 행렬 연산"
   ]
  },
  {
   "cell_type": "code",
   "execution_count": 134,
   "id": "eefd20f9",
   "metadata": {},
   "outputs": [],
   "source": [
    "# 행렬의 덧셈\n",
    "a = np.array([[1,2,3],\n",
    "             [3,4,5]])"
   ]
  },
  {
   "cell_type": "code",
   "execution_count": 136,
   "id": "1b2a66a5",
   "metadata": {},
   "outputs": [],
   "source": [
    "b = np.array([[3,4,5],\n",
    "             [1,2,3]])"
   ]
  },
  {
   "cell_type": "code",
   "execution_count": 137,
   "id": "956ab09e",
   "metadata": {},
   "outputs": [
    {
     "data": {
      "text/plain": [
       "array([[4, 6, 8],\n",
       "       [4, 6, 8]])"
      ]
     },
     "execution_count": 137,
     "metadata": {},
     "output_type": "execute_result"
    }
   ],
   "source": [
    "a+b"
   ]
  },
  {
   "cell_type": "code",
   "execution_count": 138,
   "id": "f4bdb6e2",
   "metadata": {},
   "outputs": [
    {
     "data": {
      "text/plain": [
       "array([[ 1,  2,  3,  4,  5],\n",
       "       [ 6,  7,  8,  9, 10],\n",
       "       [11, 12, 13, 14, 15],\n",
       "       [16, 17, 18, 19, 20],\n",
       "       [21, 22, 23, 24, 25]])"
      ]
     },
     "execution_count": 138,
     "metadata": {},
     "output_type": "execute_result"
    }
   ],
   "source": [
    "# np.sum\n",
    "a = np.array(np.arange(1,26)).reshape(5,5)\n",
    "a"
   ]
  },
  {
   "cell_type": "code",
   "execution_count": 139,
   "id": "3de8d7ea",
   "metadata": {},
   "outputs": [
    {
     "data": {
      "text/plain": [
       "array([55, 60, 65, 70, 75])"
      ]
     },
     "execution_count": 139,
     "metadata": {},
     "output_type": "execute_result"
    }
   ],
   "source": [
    "# 같은 열데이터 간 덧셈 \n",
    "np.sum(a, axis = 0)"
   ]
  },
  {
   "cell_type": "code",
   "execution_count": 140,
   "id": "cd3dd679",
   "metadata": {},
   "outputs": [
    {
     "data": {
      "text/plain": [
       "array([ 15,  40,  65,  90, 115])"
      ]
     },
     "execution_count": 140,
     "metadata": {},
     "output_type": "execute_result"
    }
   ],
   "source": [
    "# 같은 행데이터 간 덧셈\n",
    "np.sum(a, axis = 1) "
   ]
  },
  {
   "cell_type": "code",
   "execution_count": 141,
   "id": "b37974a5",
   "metadata": {},
   "outputs": [],
   "source": [
    "# 행렬의 뺄셈은 생략"
   ]
  },
  {
   "cell_type": "code",
   "execution_count": 143,
   "id": "d64028bf",
   "metadata": {},
   "outputs": [],
   "source": [
    "# 행렬의 곱셈\n",
    "a = np.array([[1,2,3],\n",
    "             [3,4,5]])"
   ]
  },
  {
   "cell_type": "code",
   "execution_count": 144,
   "id": "c8220886",
   "metadata": {},
   "outputs": [],
   "source": [
    "b = np.array([[3,4,5],\n",
    "             [1,2,3]])"
   ]
  },
  {
   "cell_type": "code",
   "execution_count": 145,
   "id": "110a3adc",
   "metadata": {},
   "outputs": [
    {
     "data": {
      "text/plain": [
       "((2, 3), (2, 3))"
      ]
     },
     "execution_count": 145,
     "metadata": {},
     "output_type": "execute_result"
    }
   ],
   "source": [
    "a.shape, b.shape # 튜플로 봄"
   ]
  },
  {
   "cell_type": "code",
   "execution_count": 146,
   "id": "30942a62",
   "metadata": {},
   "outputs": [
    {
     "data": {
      "text/plain": [
       "array([[ 3,  8, 15],\n",
       "       [ 3,  8, 15]])"
      ]
     },
     "execution_count": 146,
     "metadata": {},
     "output_type": "execute_result"
    }
   ],
   "source": [
    "# 아다마르 곱 (배열의 사이즈가 같아야 함 덧셈처럼)\n",
    "# 같은 위치의 값을 곱함\n",
    "a*b "
   ]
  },
  {
   "cell_type": "code",
   "execution_count": 148,
   "id": "1ee837c3",
   "metadata": {},
   "outputs": [
    {
     "data": {
      "text/plain": [
       "array([[1, 2, 3],\n",
       "       [4, 5, 6],\n",
       "       [7, 8, 9]])"
      ]
     },
     "execution_count": 148,
     "metadata": {},
     "output_type": "execute_result"
    }
   ],
   "source": [
    "a = np.array(np.arange(1,10)).reshape(3,3)\n",
    "a"
   ]
  },
  {
   "cell_type": "code",
   "execution_count": 150,
   "id": "83fa339d",
   "metadata": {},
   "outputs": [
    {
     "data": {
      "text/plain": [
       "array([[1, 2],\n",
       "       [3, 4],\n",
       "       [5, 6]])"
      ]
     },
     "execution_count": 150,
     "metadata": {},
     "output_type": "execute_result"
    }
   ],
   "source": [
    "b = np.array(np.arange(1,7)).reshape(3,2)\n",
    "b"
   ]
  },
  {
   "cell_type": "code",
   "execution_count": 151,
   "id": "d181af22",
   "metadata": {},
   "outputs": [
    {
     "data": {
      "text/plain": [
       "((3, 3), (3, 2))"
      ]
     },
     "execution_count": 151,
     "metadata": {},
     "output_type": "execute_result"
    }
   ],
   "source": [
    "a.shape, b.shape # (3,3) , (3,2) = > 안에 3,3 이 같아야 곱해지고 결과는 (3,2) 가 나옴"
   ]
  },
  {
   "cell_type": "code",
   "execution_count": 153,
   "id": "a2ae47bd",
   "metadata": {},
   "outputs": [
    {
     "data": {
      "text/plain": [
       "array([[ 22,  28],\n",
       "       [ 49,  64],\n",
       "       [ 76, 100]])"
      ]
     },
     "execution_count": 153,
     "metadata": {},
     "output_type": "execute_result"
    }
   ],
   "source": [
    "# 행렬의 곱셈 표현 1\n",
    "np.dot(a,b)"
   ]
  },
  {
   "cell_type": "code",
   "execution_count": 154,
   "id": "6485b0a9",
   "metadata": {},
   "outputs": [
    {
     "data": {
      "text/plain": [
       "array([[ 22,  28],\n",
       "       [ 49,  64],\n",
       "       [ 76, 100]])"
      ]
     },
     "execution_count": 154,
     "metadata": {},
     "output_type": "execute_result"
    }
   ],
   "source": [
    "# 행렬의 곱셈 표현 2\n",
    "a.dot(b)"
   ]
  },
  {
   "cell_type": "markdown",
   "id": "5e27033d",
   "metadata": {},
   "source": [
    "## Broadcasting"
   ]
  },
  {
   "cell_type": "code",
   "execution_count": 155,
   "id": "278648ad",
   "metadata": {},
   "outputs": [],
   "source": [
    "a = np.array([[1,2,3],\n",
    "             [3,4,5]])"
   ]
  },
  {
   "cell_type": "code",
   "execution_count": 156,
   "id": "e269ac48",
   "metadata": {},
   "outputs": [],
   "source": [
    "b = np.array([[3,3,3],\n",
    "             [3,3,3]])"
   ]
  },
  {
   "cell_type": "code",
   "execution_count": 157,
   "id": "0018a2bf",
   "metadata": {},
   "outputs": [
    {
     "data": {
      "text/plain": [
       "array([[4, 5, 6],\n",
       "       [6, 7, 8]])"
      ]
     },
     "execution_count": 157,
     "metadata": {},
     "output_type": "execute_result"
    }
   ],
   "source": [
    "a+b"
   ]
  },
  {
   "cell_type": "code",
   "execution_count": 158,
   "id": "3a01fc66",
   "metadata": {},
   "outputs": [
    {
     "data": {
      "text/plain": [
       "array([[4, 5, 6],\n",
       "       [6, 7, 8]])"
      ]
     },
     "execution_count": 158,
     "metadata": {},
     "output_type": "execute_result"
    }
   ],
   "source": [
    "# broadcasting 연산\n",
    "a+3"
   ]
  },
  {
   "cell_type": "code",
   "execution_count": 159,
   "id": "bf876922",
   "metadata": {},
   "outputs": [
    {
     "data": {
      "text/plain": [
       "array([[-2, -1,  0],\n",
       "       [ 0,  1,  2]])"
      ]
     },
     "execution_count": 159,
     "metadata": {},
     "output_type": "execute_result"
    }
   ],
   "source": [
    "a-3"
   ]
  },
  {
   "cell_type": "code",
   "execution_count": 160,
   "id": "26f8215c",
   "metadata": {},
   "outputs": [
    {
     "data": {
      "text/plain": [
       "array([[ 3,  6,  9],\n",
       "       [ 9, 12, 15]])"
      ]
     },
     "execution_count": 160,
     "metadata": {},
     "output_type": "execute_result"
    }
   ],
   "source": [
    "# 아다마르곱\n",
    "a*3"
   ]
  },
  {
   "cell_type": "code",
   "execution_count": 161,
   "id": "cd8dec61",
   "metadata": {},
   "outputs": [
    {
     "data": {
      "text/plain": [
       "array([[0.33333333, 0.66666667, 1.        ],\n",
       "       [1.        , 1.33333333, 1.66666667]])"
      ]
     },
     "execution_count": 161,
     "metadata": {},
     "output_type": "execute_result"
    }
   ],
   "source": [
    "a/3"
   ]
  },
  {
   "cell_type": "code",
   "execution_count": 162,
   "id": "5c7854ac",
   "metadata": {},
   "outputs": [
    {
     "data": {
      "text/plain": [
       "array([[1, 2, 3],\n",
       "       [3, 4, 5]])"
      ]
     },
     "execution_count": 162,
     "metadata": {},
     "output_type": "execute_result"
    }
   ],
   "source": [
    "a"
   ]
  },
  {
   "cell_type": "code",
   "execution_count": 163,
   "id": "cea89394",
   "metadata": {},
   "outputs": [],
   "source": [
    "b = np.array([[1],\n",
    "             [2]])"
   ]
  },
  {
   "cell_type": "code",
   "execution_count": 164,
   "id": "a48ab85e",
   "metadata": {},
   "outputs": [
    {
     "data": {
      "text/plain": [
       "((2, 3), (2, 1))"
      ]
     },
     "execution_count": 164,
     "metadata": {},
     "output_type": "execute_result"
    }
   ],
   "source": [
    "a.shape , b.shape"
   ]
  },
  {
   "cell_type": "code",
   "execution_count": 165,
   "id": "f771a988",
   "metadata": {},
   "outputs": [
    {
     "data": {
      "text/plain": [
       "array([[ 1,  2,  3],\n",
       "       [ 6,  8, 10]])"
      ]
     },
     "execution_count": 165,
     "metadata": {},
     "output_type": "execute_result"
    }
   ],
   "source": [
    "# 행 단위로 broadcasting 연산\n",
    "a * b"
   ]
  },
  {
   "cell_type": "code",
   "execution_count": 166,
   "id": "143c9efc",
   "metadata": {},
   "outputs": [
    {
     "data": {
      "text/plain": [
       "array([[1, 2, 3],\n",
       "       [3, 4, 5]])"
      ]
     },
     "execution_count": 166,
     "metadata": {},
     "output_type": "execute_result"
    }
   ],
   "source": [
    "a"
   ]
  },
  {
   "cell_type": "code",
   "execution_count": 167,
   "id": "6d673f7e",
   "metadata": {},
   "outputs": [],
   "source": [
    "b = np.array([1,2,3])"
   ]
  },
  {
   "cell_type": "code",
   "execution_count": 168,
   "id": "caf67dc1",
   "metadata": {},
   "outputs": [
    {
     "data": {
      "text/plain": [
       "array([[ 1,  4,  9],\n",
       "       [ 3,  8, 15]])"
      ]
     },
     "execution_count": 168,
     "metadata": {},
     "output_type": "execute_result"
    }
   ],
   "source": [
    "# 열 단위로 broadcasting 연산\n",
    "a * b"
   ]
  }
 ],
 "metadata": {
  "kernelspec": {
   "display_name": "Python 3",
   "language": "python",
   "name": "python3"
  },
  "language_info": {
   "codemirror_mode": {
    "name": "ipython",
    "version": 3
   },
   "file_extension": ".py",
   "mimetype": "text/x-python",
   "name": "python",
   "nbconvert_exporter": "python",
   "pygments_lexer": "ipython3",
   "version": "3.6.13"
  }
 },
 "nbformat": 4,
 "nbformat_minor": 5
}
