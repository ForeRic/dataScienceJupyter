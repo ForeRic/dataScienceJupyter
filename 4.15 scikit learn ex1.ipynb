{
 "cells": [
  {
   "cell_type": "markdown",
   "id": "9420f9c1",
   "metadata": {},
   "source": [
    "## Using Linear Regression model with scikit-learn "
   ]
  },
  {
   "cell_type": "code",
   "execution_count": 1,
   "id": "469c891a",
   "metadata": {},
   "outputs": [],
   "source": [
    "# Import package \n",
    "import numpy as np\n",
    "from sklearn.linear_model import LinearRegression # linear_model 을 LinearRegression 이름으로 가져오는 것 "
   ]
  },
  {
   "cell_type": "code",
   "execution_count": 4,
   "id": "5256a8fe",
   "metadata": {},
   "outputs": [
    {
     "name": "stdout",
     "output_type": "stream",
     "text": [
      "(10,)\n",
      "<class 'numpy.ndarray'>\n"
     ]
    }
   ],
   "source": [
    "# x = [0,1,2,3,4,5,6,7,8,9]\n",
    "# 1차원 데이터\n",
    "# aragne = array + range\n",
    "x = np.arange(10)\n",
    "print(x.shape)\n",
    "print(type(x))\n"
   ]
  },
  {
   "cell_type": "code",
   "execution_count": 6,
   "id": "99842763",
   "metadata": {},
   "outputs": [
    {
     "name": "stdout",
     "output_type": "stream",
     "text": [
      "[[0]\n",
      " [1]\n",
      " [2]\n",
      " [3]\n",
      " [4]\n",
      " [5]\n",
      " [6]\n",
      " [7]\n",
      " [8]\n",
      " [9]]\n",
      "(10, 1)\n"
     ]
    }
   ],
   "source": [
    "# x.shqpe => (10,1)\n",
    "# 2차원 데이터\n",
    "x = np.arange(10).reshape(-1,1) # 10개를 만들어라 \n",
    "print(x)\n",
    "print(x.shape)"
   ]
  },
  {
   "cell_type": "code",
   "execution_count": 17,
   "id": "a9409c45",
   "metadata": {},
   "outputs": [
    {
     "name": "stdout",
     "output_type": "stream",
     "text": [
      "[ 0  1  2  3  4  5  6  7  8  9 10 11]\n"
     ]
    }
   ],
   "source": [
    "x = np.arange(12)\n",
    "print(x)"
   ]
  },
  {
   "cell_type": "code",
   "execution_count": 18,
   "id": "9ea0d7af",
   "metadata": {},
   "outputs": [
    {
     "data": {
      "text/plain": [
       "array([[ 0],\n",
       "       [ 1],\n",
       "       [ 2],\n",
       "       [ 3],\n",
       "       [ 4],\n",
       "       [ 5],\n",
       "       [ 6],\n",
       "       [ 7],\n",
       "       [ 8],\n",
       "       [ 9],\n",
       "       [10],\n",
       "       [11]])"
      ]
     },
     "execution_count": 18,
     "metadata": {},
     "output_type": "execute_result"
    }
   ],
   "source": [
    "# 행과 열중에 행에 -1을 입력한경우\n",
    "# 열을 특정숫자로 고정하고 행을 데이터에 맞게 설정해준다.\n",
    "x.reshape(-1,1)"
   ]
  },
  {
   "cell_type": "code",
   "execution_count": 19,
   "id": "77b3de4b",
   "metadata": {},
   "outputs": [
    {
     "data": {
      "text/plain": [
       "array([[ 0,  1,  2,  3,  4,  5],\n",
       "       [ 6,  7,  8,  9, 10, 11]])"
      ]
     },
     "execution_count": 19,
     "metadata": {},
     "output_type": "execute_result"
    }
   ],
   "source": [
    "x.reshape(2,-1)"
   ]
  },
  {
   "cell_type": "code",
   "execution_count": 23,
   "id": "63f6ea95",
   "metadata": {},
   "outputs": [
    {
     "name": "stdout",
     "output_type": "stream",
     "text": [
      "[[0]\n",
      " [1]\n",
      " [2]\n",
      " [3]\n",
      " [4]\n",
      " [5]\n",
      " [6]\n",
      " [7]\n",
      " [8]\n",
      " [9]]\n",
      "[[ 1]\n",
      " [ 3]\n",
      " [ 5]\n",
      " [ 7]\n",
      " [ 9]\n",
      " [11]\n",
      " [13]\n",
      " [15]\n",
      " [17]\n",
      " [19]]\n"
     ]
    }
   ],
   "source": [
    "# 직선의 방정식을 만들기 위해\n",
    "# y =2x+1 에 대한 데이터셋을 만든다.\n",
    "# y =wx+b\n",
    "x = np.arange(10).reshape(-1, 1)\n",
    "y = (2*x + 1).reshape(-1,1)\n",
    "print(x)\n",
    "print(y)"
   ]
  },
  {
   "cell_type": "code",
   "execution_count": 24,
   "id": "e771429e",
   "metadata": {},
   "outputs": [
    {
     "data": {
      "text/plain": [
       "LinearRegression()"
      ]
     },
     "execution_count": 24,
     "metadata": {},
     "output_type": "execute_result"
    }
   ],
   "source": [
    "# 모델 선언(정의)\n",
    "model = LinearRegression()\n",
    "model"
   ]
  },
  {
   "cell_type": "code",
   "execution_count": 25,
   "id": "8cbb5b7b",
   "metadata": {},
   "outputs": [
    {
     "data": {
      "text/plain": [
       "LinearRegression()"
      ]
     },
     "execution_count": 25,
     "metadata": {},
     "output_type": "execute_result"
    }
   ],
   "source": [
    "# 학습(Training)\n",
    "# model.fit(문제, 답)\n",
    "model.fit(x,y)"
   ]
  },
  {
   "cell_type": "code",
   "execution_count": 26,
   "id": "82377392",
   "metadata": {},
   "outputs": [
    {
     "data": {
      "text/plain": [
       "array([[21.]])"
      ]
     },
     "execution_count": 26,
     "metadata": {},
     "output_type": "execute_result"
    }
   ],
   "source": [
    "# 예측\n",
    "# 학습이 끝나게 되면 이전에 학습되지 않은 x데이터를 \n",
    "# 입력해서 예측이 잘되는지 확인한다.\n",
    "prediction = model.predict([[10.0]])\n",
    "prediction"
   ]
  },
  {
   "cell_type": "code",
   "execution_count": 27,
   "id": "473c5610",
   "metadata": {},
   "outputs": [
    {
     "data": {
      "text/plain": [
       "array([[41.6]])"
      ]
     },
     "execution_count": 27,
     "metadata": {},
     "output_type": "execute_result"
    }
   ],
   "source": [
    "prediction = model.predict([[20.3]])\n",
    "prediction"
   ]
  },
  {
   "cell_type": "markdown",
   "id": "e83c263d",
   "metadata": {},
   "source": [
    "## 데이터 분할하는 메소드를 사용해보자\n",
    "\n",
    "### train_test_split() 메소드를 활용해보자"
   ]
  },
  {
   "cell_type": "code",
   "execution_count": 7,
   "id": "0ea4c7db",
   "metadata": {},
   "outputs": [],
   "source": [
    "import numpy as np\n",
    "from sklearn.model_selection import train_test_split"
   ]
  },
  {
   "cell_type": "code",
   "execution_count": 15,
   "id": "b2ebcd4d",
   "metadata": {},
   "outputs": [],
   "source": [
    "X = [[0,1],[2,3],[4,5],[6,7],[8,9]]\n",
    "Y = [0,1,2,3,4]\n",
    "\n",
    "# X의 전체 데이터 5개 중에 20%를 test 로 주고 싶다\n",
    "# train : test = 4:1 \n",
    "# random_state 는 random seed 값을 의미한다. random seed 값을 주지 않으면 동일한 결과가 나오지 않음. randome state 을 고정한다는 의미.\n",
    "\n",
    "# 데이터(X)만 train_test_split 에 넣은 경우\n",
    "X_train, X_test = train_test_split(X, test_size=0.2 , random_state=123)"
   ]
  },
  {
   "cell_type": "code",
   "execution_count": 16,
   "id": "d4fb38e5",
   "metadata": {},
   "outputs": [
    {
     "name": "stdout",
     "output_type": "stream",
     "text": [
      "[[6, 7], [8, 9], [0, 1], [4, 5]]\n",
      "[[2, 3]]\n"
     ]
    }
   ],
   "source": [
    "print(X_train)\n",
    "print(X_test)"
   ]
  },
  {
   "cell_type": "code",
   "execution_count": 20,
   "id": "bb8c09b0",
   "metadata": {},
   "outputs": [],
   "source": [
    "# 데이터(X)와 레이블(Y)를 함께 train_test_split 에 넣은 경우\n",
    "X_train, X_test, Y_train, Y_test = train_test_split(X, Y, test_size=0.2 , random_state=123)"
   ]
  },
  {
   "cell_type": "code",
   "execution_count": 21,
   "id": "60159f2f",
   "metadata": {},
   "outputs": [
    {
     "name": "stdout",
     "output_type": "stream",
     "text": [
      "[[6, 7], [8, 9], [0, 1], [4, 5]]\n",
      "[3, 4, 0, 2]\n",
      "[[2, 3]]\n",
      "[1]\n"
     ]
    }
   ],
   "source": [
    "print(X_train) # 3하고 6하고 , 4하고 8하고 , 0하고 0하고, 2하고 4하고. 순서가 맞음\n",
    "print(Y_train)\n",
    "print(X_test)\n",
    "print(Y_test)"
   ]
  },
  {
   "cell_type": "markdown",
   "id": "bd5fa5c0",
   "metadata": {},
   "source": [
    "## 당뇨병 1년후 병의 진전도 예측 모델\n",
    "\n",
    "### scikit-learn 데이터셋 중에 load_diabetes() 메소드"
   ]
  },
  {
   "cell_type": "code",
   "execution_count": 22,
   "id": "db54a80a",
   "metadata": {},
   "outputs": [],
   "source": [
    "from sklearn.datasets import load_diabetes\n",
    "diabetes = load_diabetes()"
   ]
  },
  {
   "cell_type": "code",
   "execution_count": 28,
   "id": "3b114c72",
   "metadata": {},
   "outputs": [
    {
     "name": "stdout",
     "output_type": "stream",
     "text": [
      ".. _diabetes_dataset:\n",
      "\n",
      "Diabetes dataset\n",
      "----------------\n",
      "\n",
      "Ten baseline variables, age, sex, body mass index, average blood\n",
      "pressure, and six blood serum measurements were obtained for each of n =\n",
      "442 diabetes patients, as well as the response of interest, a\n",
      "quantitative measure of disease progression one year after baseline.\n",
      "\n",
      "**Data Set Characteristics:**\n",
      "\n",
      "  :Number of Instances: 442\n",
      "\n",
      "  :Number of Attributes: First 10 columns are numeric predictive values\n",
      "\n",
      "  :Target: Column 11 is a quantitative measure of disease progression one year after baseline\n",
      "\n",
      "  :Attribute Information:\n",
      "      - age     age in years\n",
      "      - sex\n",
      "      - bmi     body mass index\n",
      "      - bp      average blood pressure\n",
      "      - s1      tc, T-Cells (a type of white blood cells)\n",
      "      - s2      ldl, low-density lipoproteins\n",
      "      - s3      hdl, high-density lipoproteins\n",
      "      - s4      tch, thyroid stimulating hormone\n",
      "      - s5      ltg, lamotrigine\n",
      "      - s6      glu, blood sugar level\n",
      "\n",
      "Note: Each of these 10 feature variables have been mean centered and scaled by the standard deviation times `n_samples` (i.e. the sum of squares of each column totals 1).\n",
      "\n",
      "Source URL:\n",
      "https://www4.stat.ncsu.edu/~boos/var.select/diabetes.html\n",
      "\n",
      "For more information see:\n",
      "Bradley Efron, Trevor Hastie, Iain Johnstone and Robert Tibshirani (2004) \"Least Angle Regression,\" Annals of Statistics (with discussion), 407-499.\n",
      "(https://web.stanford.edu/~hastie/Papers/LARS/LeastAngle_2002.pdf)\n"
     ]
    }
   ],
   "source": [
    "print(diabetes.DESCR)"
   ]
  },
  {
   "cell_type": "code",
   "execution_count": 29,
   "id": "cb1bb8fe",
   "metadata": {},
   "outputs": [
    {
     "name": "stdout",
     "output_type": "stream",
     "text": [
      "feature names: ['age', 'sex', 'bmi', 'bp', 's1', 's2', 's3', 's4', 's5', 's6']\n"
     ]
    }
   ],
   "source": [
    "features = diabetes.feature_names\n",
    "print('feature names:', features) # 열에 대한 항목을 가지고 옴  --> 녹화본 다시 볼것 현재 시간 10:50 약 2시간 정도 됐을 시간. 녹화기준"
   ]
  },
  {
   "cell_type": "code",
   "execution_count": 30,
   "id": "c22cd190",
   "metadata": {},
   "outputs": [
    {
     "name": "stdout",
     "output_type": "stream",
     "text": [
      "(442, 10)\n",
      "(442,)\n"
     ]
    }
   ],
   "source": [
    "print(diabetes.data.shape)v # data = x\n",
    "print(diabetes.target.shape) # target = y "
   ]
  },
  {
   "cell_type": "code",
   "execution_count": 31,
   "id": "90e67489",
   "metadata": {},
   "outputs": [],
   "source": [
    "X = diabetes.data\n",
    "Y = diabetes.target"
   ]
  },
  {
   "cell_type": "code",
   "execution_count": 33,
   "id": "744c2ab3",
   "metadata": {},
   "outputs": [
    {
     "name": "stdout",
     "output_type": "stream",
     "text": [
      "Collecting matplotlib\n",
      "  Downloading matplotlib-3.3.4-cp36-cp36m-win_amd64.whl (8.5 MB)\n",
      "Collecting kiwisolver>=1.0.1\n",
      "  Downloading kiwisolver-1.3.1-cp36-cp36m-win_amd64.whl (51 kB)\n",
      "Collecting pillow>=6.2.0\n",
      "  Downloading Pillow-8.2.0-cp36-cp36m-win_amd64.whl (2.2 MB)\n",
      "Requirement already satisfied: pyparsing!=2.0.4,!=2.1.2,!=2.1.6,>=2.0.3 in c:\\users\\jun\\miniconda3\\envs\\ds\\lib\\site-packages (from matplotlib) (2.4.7)\n",
      "Requirement already satisfied: numpy>=1.15 in c:\\users\\jun\\miniconda3\\envs\\ds\\lib\\site-packages (from matplotlib) (1.19.5)\n",
      "Collecting cycler>=0.10\n",
      "  Downloading cycler-0.10.0-py2.py3-none-any.whl (6.5 kB)\n",
      "Requirement already satisfied: python-dateutil>=2.1 in c:\\users\\jun\\miniconda3\\envs\\ds\\lib\\site-packages (from matplotlib) (2.8.1)\n",
      "Requirement already satisfied: six in c:\\users\\jun\\miniconda3\\envs\\ds\\lib\\site-packages (from cycler>=0.10->matplotlib) (1.15.0)\n",
      "Installing collected packages: pillow, kiwisolver, cycler, matplotlib\n",
      "Successfully installed cycler-0.10.0 kiwisolver-1.3.1 matplotlib-3.3.4 pillow-8.2.0\n"
     ]
    }
   ],
   "source": [
    "!pip install matplotlib"
   ]
  },
  {
   "cell_type": "code",
   "execution_count": 35,
   "id": "d1b9f026",
   "metadata": {},
   "outputs": [
    {
     "data": {
      "image/png": "[encoded data removed]",
      "text/plain": [
       "<Figure size 432x288 with 1 Axes>"
      ]
     },
     "metadata": {
      "needs_background": "light"
     },
     "output_type": "display_data"
    }
   ],
   "source": [
    "import matplotlib.pyplot as plt\n",
    "\n",
    "# BMI 지수 X[2] 와 target (Y) 의 관계 그래프를 그려본다.\n",
    "plt.scatter(X[:,2], Y)\n",
    "plt.xlabel('3rd characteristic of diabetes.data')\n",
    "plt.ylabel('diabetes.target')\n",
    "plt.show()"
   ]
  },
  {
   "cell_type": "code",
   "execution_count": 37,
   "id": "738f7d76",
   "metadata": {},
   "outputs": [
    {
     "name": "stdout",
     "output_type": "stream",
     "text": [
      "(442, 1)\n",
      "[[ 0.06169621]\n",
      " [-0.05147406]\n",
      " [ 0.04445121]\n",
      " [-0.01159501]\n",
      " [-0.03638469]]\n"
     ]
    }
   ],
   "source": [
    "bmi = X[:,np.newaxis,2] # 모든행, 0,1,2 의 열만 가져옴\n",
    "\n",
    "print(bmi.shape) # 442행, 1열\n",
    "print(bmi[:5]) # 0~4 행까지 데이터만 확인 "
   ]
  },
  {
   "cell_type": "code",
   "execution_count": 38,
   "id": "e465c251",
   "metadata": {},
   "outputs": [],
   "source": [
    "# 442개의 데이터를 train 데이터와 test 데이터로 나눈다 \n",
    "\n",
    "from sklearn.model_selection import train_test_split\n",
    "\n",
    "# 442개를 8:2 로 나눠준다\n",
    "bmi_train, bmi_test, y_train, y_test = train_test_split(bmi, Y, test_size=0.2, random_state = 123) \n",
    "# 나누고자 하는 bmi 와 target 인 Y 를 같이 나눠줌. "
   ]
  },
  {
   "cell_type": "code",
   "execution_count": 39,
   "id": "7326eeee",
   "metadata": {},
   "outputs": [
    {
     "name": "stdout",
     "output_type": "stream",
     "text": [
      "(353, 1)\n",
      "(353,)\n",
      "(89, 1)\n",
      "(89,)\n"
     ]
    }
   ],
   "source": [
    "print(bmi_train.shape) #(353,1)\n",
    "print(y_train.shape) #(353,)\n",
    "print(bmi_test.shape) #(89,1)\n",
    "print(y_test.shape) #(89,)"
   ]
  },
  {
   "cell_type": "code",
   "execution_count": 40,
   "id": "c54c90b9",
   "metadata": {},
   "outputs": [],
   "source": [
    "from sklearn.linear_model import LinearRegression\n",
    "\n",
    "# model 을 선언(정의)\n",
    "model = LinearRegression()"
   ]
  },
  {
   "cell_type": "code",
   "execution_count": 41,
   "id": "d9c6158c",
   "metadata": {},
   "outputs": [
    {
     "data": {
      "text/plain": [
       "LinearRegression()"
      ]
     },
     "execution_count": 41,
     "metadata": {},
     "output_type": "execute_result"
    }
   ],
   "source": [
    "# 모델을 학습 (training)\n",
    "model.fit(bmi_train, y_train) # x = bmi_train, y = y_train (x 의 정답)"
   ]
  },
  {
   "cell_type": "code",
   "execution_count": 42,
   "id": "76af7159",
   "metadata": {},
   "outputs": [
    {
     "data": {
      "image/png": "[encoded data removed]",
      "text/plain": [
       "<Figure size 432x288 with 1 Axes>"
      ]
     },
     "metadata": {
      "needs_background": "light"
     },
     "output_type": "display_data"
    }
   ],
   "source": [
    "# 학습된 모델을 테스트 (확인)\n",
    "y_pred = model.predict(bmi_test)\n",
    "plt.scatter(bmi_train, y_train)\n",
    "plt.scatter(bmi_test, y_test)\n",
    "plt.scatter(bmi_test, y_pred)\n",
    "plt.show() # blue - train,  oragne - test, green - prediction data"
   ]
  }
 ],
 "metadata": {
  "kernelspec": {
   "display_name": "Python 3",
   "language": "python",
   "name": "python3"
  },
  "language_info": {
   "codemirror_mode": {
    "name": "ipython",
    "version": 3
   },
   "file_extension": ".py",
   "mimetype": "text/x-python",
   "name": "python",
   "nbconvert_exporter": "python",
   "pygments_lexer": "ipython3",
   "version": "3.6.13"
  }
 },
 "nbformat": 4,
 "nbformat_minor": 5
}
